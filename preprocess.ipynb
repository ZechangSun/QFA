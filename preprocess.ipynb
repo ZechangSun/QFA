{
 "cells": [
  {
   "attachments": {},
   "cell_type": "markdown",
   "metadata": {},
   "source": [
    "# Preprocession of DESI spectrum data\n",
    "\n",
    "This notebook is aimed at preprocessing the DESI spectrum data. There are several changes we make to the original data:\n",
    "\n",
    "* Rebin the spectrum in the restframe.\n",
    "* Clip the abnormal points from the spectrum. (3 sigma)\n",
    "* Normalize.\n",
    "\n",
    "**This notebook is not completed**"
   ]
  },
  {
   "cell_type": "code",
   "execution_count": 114,
   "metadata": {},
   "outputs": [],
   "source": [
    "from dla_cnn.desi.DesiMock import DesiMock\n",
    "import numpy as np\n",
    "import pandas as pd\n",
    "import matplotlib.pyplot as plt\n",
    "from astropy.io import fits\n",
    "from scipy.interpolate import interp1d\n",
    "from matplotlib.backends.backend_pdf import PdfPages\n",
    "from tqdm import tqdm\n",
    "from astropy.stats import sigma_clip\n",
    "from scipy.optimize import curve_fit"
   ]
  },
  {
   "cell_type": "code",
   "execution_count": 76,
   "metadata": {},
   "outputs": [],
   "source": [
    "def get_spilt_point(data:DesiMock, id):\n",
    "    line_b = data.get_sightline(id=id, camera='b')\n",
    "    line_z = data.get_sightline(id=id, camera='z')\n",
    "    line_r = data.get_sightline(id=id, camera='r')\n",
    "    spilt_loglam_br = np.average([np.max(line_b.loglam), np.min(line_r.loglam)])\n",
    "    spilt_loglam_rz = np.average([np.min(line_z.loglam), np.max(line_r.loglam)])\n",
    "    return spilt_loglam_br, spilt_loglam_rz\n",
    "\n",
    "def get_between(array, max, min, maxif=False, minif=False):\n",
    "    if maxif:\n",
    "        if minif:\n",
    "            return np.intersect1d(np.where(array>=min)[0], np.where(array<=max)[0])\n",
    "        else:\n",
    "            return np.intersect1d(np.where(array>min)[0], np.where(array<=max)[0])\n",
    "    else:\n",
    "        if minif:\n",
    "            return np.intersect1d(np.where(array>=min)[0], np.where(array<max)[0])\n",
    "        else:\n",
    "            return np.intersect1d(np.where(array>min)[0], np.where(array<max)[0])\n",
    "\n",
    "def overlap(sightline, data:DesiMock, id):\n",
    "    '''\n",
    "    here sightline = data.get_sightline(id=id)\n",
    "    '''\n",
    "    spilt_loglam_br, spilt_loglam_rz = get_spilt_point(data, id)\n",
    "    line_r = data.get_sightline(id=id, camera='r')\n",
    "    line_b = data.get_sightline(id=id, camera='b')\n",
    "    line_z = data.get_sightline(id=id, camera='z')\n",
    "    \n",
    "    loglam_r = line_r.loglam[0:np.where(loglam == np.max(loglam))[0][0]]\n",
    "    indice_r = get_between(loglam_r, max=spilt_loglam_rz, min=spilt_loglam_br)\n",
    "    indice_b = get_between(line_b.loglam, max=spilt_loglam_br, min=0, maxif=True)\n",
    "    indice_z = get_between(line_z.loglam, max=np.Infinity, min=spilt_loglam_rz, minif=True)\n",
    "    \n",
    "    loglam_r, loglam_b, loglam_z = loglam_r[indice_r], line_b.loglam[indice_b], line_z.loglam[indice_z]\n",
    "    flux_r, flux_b, flux_z = line_r.flux[indice_r], line_b.flux[indice_b], line_z.flux[indice_z]\n",
    "    sightline.loglam = np.concatenate((loglam_b, loglam_r, loglam_z))\n",
    "    sightline.flux = np.concatenate((flux_b, flux_r, flux_z))"
   ]
  },
  {
   "cell_type": "code",
   "execution_count": null,
   "metadata": {},
   "outputs": [],
   "source": [
    "def rest_lam(sightline):\n",
    "    loglam = sightline.loglam\n",
    "    z = sightline.z_qso\n",
    "    sightline.loglam_rest = loglam - np.log10(1+z)"
   ]
  },
  {
   "cell_type": "code",
   "execution_count": 87,
   "metadata": {},
   "outputs": [],
   "source": [
    "def get_intensity(sightline):\n",
    "    lam = 10**sightline.loglam_rest\n",
    "    flux = sightline.flux\n",
    "    delta_lam = lam[1:] - lam[0:-1]\n",
    "    flux_avg = (flux[1:] + flux[0:-1]) / 2\n",
    "    sightline.intensity = np.sum(delta_lam * flux_avg) * 1e-17"
   ]
  },
  {
   "cell_type": "code",
   "execution_count": null,
   "metadata": {},
   "outputs": [],
   "source": [
    "def clip(sightline):\n",
    "    "
   ]
  }
 ],
 "metadata": {
  "kernelspec": {
   "display_name": "base",
   "language": "python",
   "name": "python3"
  },
  "language_info": {
   "codemirror_mode": {
    "name": "ipython",
    "version": 3
   },
   "file_extension": ".py",
   "mimetype": "text/x-python",
   "name": "python",
   "nbconvert_exporter": "python",
   "pygments_lexer": "ipython3",
   "version": "3.9.15 (main, Nov 24 2022, 14:31:59) \n[GCC 11.2.0]"
  },
  "orig_nbformat": 4,
  "vscode": {
   "interpreter": {
    "hash": "5822ad6f7f6b9f3b64cbf7e0583dcb95803179c963db37d0bbfcb06c41bbd518"
   }
  }
 },
 "nbformat": 4,
 "nbformat_minor": 2
}
