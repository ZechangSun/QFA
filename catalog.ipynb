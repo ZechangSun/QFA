{
 "cells": [
  {
   "attachments": {},
   "cell_type": "markdown",
   "metadata": {},
   "source": [
    "# Generate the catalogs"
   ]
  },
  {
   "attachments": {},
   "cell_type": "markdown",
   "metadata": {},
   "source": [
    "This notebook generate the catalog of DESI data. Each catalog contains 10 column.\n",
    "\n",
    "* ``file``:  describes which file the spectra is in.\n",
    "* ``id``:    describes the id of each spectra\n",
    "* ``snr``:   describes the signal-to-noise ratio of the spectra\n",
    "* ``z_qso``: describes the redshift of the spectra\n",
    "* ``LyBETA, LyALPHA, MgII1, CIV1, MgII2, CIV2``: describes whether the emission line is included in the spectra"
   ]
  },
  {
   "cell_type": "code",
   "execution_count": null,
   "metadata": {},
   "outputs": [],
   "source": [
    "import os\n",
    "import numpy as np\n",
    "import pandas as pd\n",
    "from tqdm import tqdm\n",
    "from dla_cnn.desi.DesiMock import DesiMock"
   ]
  },
  {
   "cell_type": "code",
   "execution_count": null,
   "metadata": {},
   "outputs": [],
   "source": [
    "# prepare the wavelengths of some important emission lines\\\n",
    "\n",
    "LyALPHA = 1215.6701\n",
    "LyBETA = 1025.7220\n",
    "MgII1 = 1482.890\n",
    "MgII2 = 1737.628\n",
    "CIV1 = 1550\n",
    "CIV2 = 1910\n",
    "lams = np.array([LyBETA, LyALPHA, MgII1, CIV1, MgII2, CIV2])\n",
    "names = ['LyBETA', 'LyALPHA', 'MgII1', 'CIV1', 'MgII2', 'CIV2']\n",
    "lines = {}\n",
    "for i, name in enumerate(names):\n",
    "    lines[name] = lams[i]\n",
    "print(lines)"
   ]
  },
  {
   "cell_type": "code",
   "execution_count": null,
   "metadata": {},
   "outputs": [],
   "source": [
    "# prepare for the data path\n",
    "\n",
    "prefix = './desi-0.2-100/spectra-16/' # this need to be specialized\n",
    "suffix = {}\n",
    "for preid in os.listdir(prefix):\n",
    "    suffix[preid] = os.listdir(prefix+preid)"
   ]
  },
  {
   "cell_type": "code",
   "execution_count": null,
   "metadata": {},
   "outputs": [],
   "source": [
    "# generate a catalog (csv format) under each folder\n",
    "\n",
    "data = {}\n",
    "for suffix1 in tqdm(suffix.keys()):\n",
    "    for suffix2 in tqdm(suffix[suffix1]):\n",
    "        path = prefix + suffix1 + '/' + suffix2 + '/'\n",
    "        if len(os.listdir(path)) == 3:\n",
    "            path_spectra = path + 'spectra-16-' + suffix2 +'.fits'\n",
    "            path_truth = path + 'truth-16-' + suffix2 +'.fits'\n",
    "            path_zbest = path + 'zbest-16-' + suffix2 +'.fits'\n",
    "            data = DesiMock()\n",
    "            data.read_fits_file(path_spectra, path_truth, path_zbest)\n",
    "            total = pd.DataFrame()\n",
    "            for id in data.data:\n",
    "                sline = data.get_sightline(id=id)\n",
    "                wav_max, wav_min = 10**np.max(sline.loglam - np.log10(1+sline.z_qso)), 10**np.min(sline.loglam - np.log10(1+sline.z_qso))\n",
    "                info = pd.DataFrame()\n",
    "                info['id'] = np.ones(1, dtype='i8') * int(id)\n",
    "                info['z_qso'] = np.ones(1) * sline.z_qso\n",
    "                info['snr'] = np.ones(1) * sline.s2n\n",
    "                for name in names:\n",
    "                    info[name] = [lines[name] >= wav_min and lines[name] <= wav_max]\n",
    "                total = pd.concat([total, info])\n",
    "            total['file'] = np.ones(len(total), dtype='i8') * int(suffix2)\n",
    "            total = total[['file', 'id', 'z_qso', 'snr', 'LyBETA', 'LyALPHA', 'MgII1', 'CIV1', 'MgII2', 'CIV2']]\n",
    "            total.to_csv(prefix + suffix1 + '/' + suffix2 + '/catalog.csv', index=False)"
   ]
  },
  {
   "cell_type": "code",
   "execution_count": null,
   "metadata": {},
   "outputs": [],
   "source": [
    "# delete all the catalog\n",
    "\n",
    "for suffix1 in suffix.keys():\n",
    "    for suffix2 in suffix[suffix1]:\n",
    "        path = prefix + suffix1 + '/' + suffix2 + '/'\n",
    "        files = os.listdir(path)\n",
    "        if len(files) == 4:\n",
    "            for file in files:\n",
    "                if '.csv' in file:\n",
    "                    os.remove(path + file)\n",
    "if 'catalog_total.csv' in os.listdir(prefix):\n",
    "    os.remove(prefix+'catalog_total.csv')"
   ]
  },
  {
   "cell_type": "code",
   "execution_count": null,
   "metadata": {},
   "outputs": [],
   "source": [
    "# generate a total catalog\n",
    "# this should be done AFTER the catalog of each folder has been generated\n",
    "\n",
    "catalog = pd.DataFrame()\n",
    "for suffix1 in suffix.keys():\n",
    "    for suffix2 in suffix[suffix1]:\n",
    "        path = prefix + suffix1 + '/' + suffix2 + '/'\n",
    "        files = os.listdir(path)\n",
    "        if len(files) == 4:\n",
    "            for file in files:\n",
    "                if '.csv' in file:\n",
    "                    this = pd.read_csv(path+file)\n",
    "                    catalog = pd.concat([catalog, this])\n",
    "\n",
    "catalog.to_csv(prefix+'catalog_total.csv')"
   ]
  }
 ],
 "metadata": {
  "kernelspec": {
   "display_name": "base",
   "language": "python",
   "name": "python3"
  },
  "language_info": {
   "codemirror_mode": {
    "name": "ipython",
    "version": 3
   },
   "file_extension": ".py",
   "mimetype": "text/x-python",
   "name": "python",
   "nbconvert_exporter": "python",
   "pygments_lexer": "ipython3",
   "version": "3.9.15 (main, Nov 24 2022, 14:31:59) \n[GCC 11.2.0]"
  },
  "orig_nbformat": 4,
  "vscode": {
   "interpreter": {
    "hash": "5822ad6f7f6b9f3b64cbf7e0583dcb95803179c963db37d0bbfcb06c41bbd518"
   }
  }
 },
 "nbformat": 4,
 "nbformat_minor": 2
}
